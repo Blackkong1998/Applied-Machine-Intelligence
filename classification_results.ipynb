{
 "cells": [
  {
   "cell_type": "code",
   "execution_count": 1,
   "id": "b05b7185",
   "metadata": {},
   "outputs": [],
   "source": [
    "import torch\n",
    "import os\n",
    "import glob\n",
    "import pandas as pd\n",
    "import seaborn as sns\n",
    "from sklearn.model_selection import train_test_split\n",
    "from sklearn.metrics import classification_report\n",
    "\n",
    "from model_dev.solver import test"
   ]
  },
  {
   "cell_type": "markdown",
   "id": "fa20a9df",
   "metadata": {},
   "source": [
    "### Testing"
   ]
  },
  {
   "cell_type": "code",
   "execution_count": 2,
   "id": "038669c2",
   "metadata": {},
   "outputs": [],
   "source": [
    "# Define path for input images and annotation file\n",
    "input_path = './new_dataset/Images'\n",
    "updated_ann_path = './new_dataset/Annotations/updated_annotation.json'\n",
    "\n",
    "input_data = glob.glob(os.path.join(os.path.abspath(input_path), \"*.jpeg\"))"
   ]
  },
  {
   "cell_type": "code",
   "execution_count": 3,
   "id": "ad9d5d52",
   "metadata": {},
   "outputs": [],
   "source": [
    "# Split data into train and test data\n",
    "train_data, test_data = train_test_split(input_data, test_size=0.2, random_state=0)"
   ]
  },
  {
   "cell_type": "code",
   "execution_count": 4,
   "id": "3808b90a",
   "metadata": {},
   "outputs": [],
   "source": [
    "# Path for the trained model to be tested\n",
    "model_path = \"./model_best.pth\""
   ]
  },
  {
   "cell_type": "code",
   "execution_count": 5,
   "id": "89fe3b19",
   "metadata": {},
   "outputs": [
    {
     "data": {
      "application/vnd.jupyter.widget-view+json": {
       "model_id": "2413712804d5414da5a570128e1e7fc2",
       "version_major": 2,
       "version_minor": 0
      },
      "text/plain": [
       "  0%|          | 0/11 [00:00<?, ?it/s]"
      ]
     },
     "metadata": {},
     "output_type": "display_data"
    },
    {
     "name": "stdout",
     "output_type": "stream",
     "text": [
      "Test Accuracy:  0.6227544910179641\n",
      "Test Recall:  0.7479531927542252\n"
     ]
    }
   ],
   "source": [
    "# Run testing\n",
    "y_pred, y_true = test(test_data, updated_ann_path, model_path=model_path, batch_size=16)"
   ]
  },
  {
   "cell_type": "markdown",
   "id": "0553eec6",
   "metadata": {},
   "source": [
    "### Plot"
   ]
  },
  {
   "cell_type": "code",
   "execution_count": 6,
   "id": "ccba9ef9",
   "metadata": {},
   "outputs": [
    {
     "name": "stdout",
     "output_type": "stream",
     "text": [
      "              precision    recall  f1-score   support\n",
      "\n",
      "     scratch       0.48      0.66      0.56        47\n",
      "        dent       0.67      0.63      0.65        59\n",
      "         rim       0.80      0.76      0.78        42\n",
      "       other       0.50      0.21      0.30        19\n",
      "\n",
      "    accuracy                           0.62       167\n",
      "   macro avg       0.61      0.56      0.57       167\n",
      "weighted avg       0.63      0.62      0.62       167\n",
      "\n"
     ]
    }
   ],
   "source": [
    "# Print result\n",
    "target_names = ['scratch', 'dent', 'rim', 'other']\n",
    "print(classification_report(y_true, y_pred, target_names=target_names))"
   ]
  },
  {
   "cell_type": "code",
   "execution_count": 7,
   "id": "50f23194",
   "metadata": {},
   "outputs": [
    {
     "name": "stdout",
     "output_type": "stream",
     "text": [
      "{'scratch': {'precision': 0.484375, 'recall': 0.6595744680851063, 'f1-score': 0.5585585585585585, 'support': 47}, 'dent': {'precision': 0.6727272727272727, 'recall': 0.6271186440677966, 'f1-score': 0.6491228070175439, 'support': 59}, 'rim': {'precision': 0.8, 'recall': 0.7619047619047619, 'f1-score': 0.7804878048780488, 'support': 42}, 'other': {'precision': 0.5, 'recall': 0.21052631578947367, 'f1-score': 0.2962962962962963, 'support': 19}, 'accuracy': 0.6227544910179641, 'macro avg': {'precision': 0.6142755681818182, 'recall': 0.5647810474617847, 'f1-score': 0.5711163666876118, 'support': 167}, 'weighted avg': {'precision': 0.6320750544365813, 'recall': 0.6227544910179641, 'f1-score': 0.6165306305436828, 'support': 167}}\n"
     ]
    }
   ],
   "source": [
    "# Result is a dictionary\n",
    "target_names = ['scratch', 'dent', 'rim', 'other']\n",
    "result = classification_report(y_true, y_pred, target_names=target_names, output_dict=True)\n",
    "print(result)"
   ]
  },
  {
   "cell_type": "code",
   "execution_count": 8,
   "id": "17201ad2",
   "metadata": {},
   "outputs": [
    {
     "data": {
      "image/png": "[encoded data removed]",
      "text/plain": [
       "<Figure size 864x576 with 2 Axes>"
      ]
     },
     "metadata": {},
     "output_type": "display_data"
    }
   ],
   "source": [
    "# Plot\n",
    "sns.set(rc={'figure.figsize':(12, 8)})\n",
    "model_plot = sns.heatmap(pd.DataFrame(result).iloc[:-1, :4].T, annot=True, cmap=\"Spectral\")\n",
    "\n",
    "# Save figure\n",
    "model_plot.figure.savefig(\"Model_Statistics.png\", dpi=300)"
   ]
  },
  {
   "cell_type": "code",
   "execution_count": null,
   "id": "89ec771e",
   "metadata": {},
   "outputs": [],
   "source": []
  }
 ],
 "metadata": {
  "kernelspec": {
   "display_name": "tf_gpu",
   "language": "python",
   "name": "tf_gpu"
  },
  "language_info": {
   "codemirror_mode": {
    "name": "ipython",
    "version": 3
   },
   "file_extension": ".py",
   "mimetype": "text/x-python",
   "name": "python",
   "nbconvert_exporter": "python",
   "pygments_lexer": "ipython3",
   "version": "3.9.7"
  }
 },
 "nbformat": 4,
 "nbformat_minor": 5
}
